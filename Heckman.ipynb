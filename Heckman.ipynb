{
 "cells": [
  {
   "cell_type": "markdown",
   "metadata": {},
   "source": [
    "# Heckman model"
   ]
  },
  {
   "cell_type": "code",
   "execution_count": 48,
   "metadata": {},
   "outputs": [],
   "source": [
    "import pandas as pd\n",
    "import numpy as np\n",
    "from sklearn import preprocessing"
   ]
  },
  {
   "cell_type": "code",
   "execution_count": 26,
   "metadata": {},
   "outputs": [],
   "source": [
    "google_last_df = pd.read_csv(\"../Data/cleaned_withNA.csv\",encoding='latin_1')\n",
    "\n",
    "#Run the line below if you start with the full data set\n",
    "google_df = google_last_df.copy()"
   ]
  },
  {
   "cell_type": "markdown",
   "metadata": {},
   "source": [
    "We create a feature indicating whether there is a NA present in nb_rating:"
   ]
  },
  {
   "cell_type": "code",
   "execution_count": 27,
   "metadata": {},
   "outputs": [
    {
     "data": {
      "text/html": [
       "<div>\n",
       "<style scoped>\n",
       "    .dataframe tbody tr th:only-of-type {\n",
       "        vertical-align: middle;\n",
       "    }\n",
       "\n",
       "    .dataframe tbody tr th {\n",
       "        vertical-align: top;\n",
       "    }\n",
       "\n",
       "    .dataframe thead th {\n",
       "        text-align: right;\n",
       "    }\n",
       "</style>\n",
       "<table border=\"1\" class=\"dataframe\">\n",
       "  <thead>\n",
       "    <tr style=\"text-align: right;\">\n",
       "      <th></th>\n",
       "      <th>NA_rating</th>\n",
       "      <th>rating_app</th>\n",
       "    </tr>\n",
       "  </thead>\n",
       "  <tbody>\n",
       "    <tr>\n",
       "      <th>0</th>\n",
       "      <td>False</td>\n",
       "      <td>3.0</td>\n",
       "    </tr>\n",
       "    <tr>\n",
       "      <th>1</th>\n",
       "      <td>False</td>\n",
       "      <td>4.3</td>\n",
       "    </tr>\n",
       "    <tr>\n",
       "      <th>2</th>\n",
       "      <td>False</td>\n",
       "      <td>4.3</td>\n",
       "    </tr>\n",
       "    <tr>\n",
       "      <th>3</th>\n",
       "      <td>True</td>\n",
       "      <td>NaN</td>\n",
       "    </tr>\n",
       "    <tr>\n",
       "      <th>4</th>\n",
       "      <td>True</td>\n",
       "      <td>NaN</td>\n",
       "    </tr>\n",
       "  </tbody>\n",
       "</table>\n",
       "</div>"
      ],
      "text/plain": [
       "   NA_rating  rating_app\n",
       "0      False         3.0\n",
       "1      False         4.3\n",
       "2      False         4.3\n",
       "3       True         NaN\n",
       "4       True         NaN"
      ]
     },
     "execution_count": 27,
     "metadata": {},
     "output_type": "execute_result"
    }
   ],
   "source": [
    "google_df['NA_rating'] = google_df.rating_app.isna()\n",
    "google_df[['NA_rating', 'rating_app']].head()"
   ]
  },
  {
   "cell_type": "markdown",
   "metadata": {},
   "source": [
    "We search for what might be a good feature to predict a NA in app rating:"
   ]
  },
  {
   "cell_type": "code",
   "execution_count": 28,
   "metadata": {},
   "outputs": [
    {
     "name": "stdout",
     "output_type": "stream",
     "text": [
      "all app ratings: \n",
      "          nb_rating\n",
      "count  7.756930e+05\n",
      "mean   6.115331e+03\n",
      "std    2.472945e+05\n",
      "min    1.000000e+00\n",
      "25%    8.000000e+00\n",
      "50%    4.100000e+01\n",
      "75%    2.770000e+02\n",
      "max    8.858200e+07\n",
      "\n",
      "number of app ratings with NA app rating: \n",
      "       nb_rating\n",
      "count        0.0\n",
      "mean         NaN\n",
      "std          NaN\n",
      "min          NaN\n",
      "25%          NaN\n",
      "50%          NaN\n",
      "75%          NaN\n",
      "max          NaN\n"
     ]
    }
   ],
   "source": [
    "#looking at the number of ratings\n",
    "print('all app ratings: ')\n",
    "print(google_df[['nb_rating']].describe())\n",
    "print('')\n",
    "print('number of app ratings with NA app rating: ')\n",
    "print(google_df[google_df.rating_app.isna()][['nb_rating']].describe())\n",
    "#Here we conclude that in all cases where app rating is missing, the number of ratings are also missing. It might be a good indicator to use for Heckman, but I'm unsure if it is allowed.."
   ]
  },
  {
   "cell_type": "code",
   "execution_count": 29,
   "metadata": {},
   "outputs": [
    {
     "name": "stdout",
     "output_type": "stream",
     "text": [
      "number of app downloads with NA app rating: \n",
      "       num_downloads_cat\n",
      "count             844233\n",
      "unique                 6\n",
      "top          1000 - 9999\n",
      "freq              239492\n",
      "----------------------------------------------\n",
      "number of app downloads with NA app rating: \n",
      "       num_downloads_cat\n",
      "count              68566\n",
      "unique                 6\n",
      "top               0 - 99\n",
      "freq               45532\n"
     ]
    }
   ],
   "source": [
    "#looking at number of downloads\n",
    "print('number of app downloads with NA app rating: ')\n",
    "print(google_df[['num_downloads_cat']].describe())\n",
    "print('----------------------------------------------')\n",
    "print('number of app downloads with NA app rating: ')\n",
    "print(google_df[google_df.rating_app.isna()][['num_downloads_cat']].describe())\n",
    "#Here we can see that number of downloads seem to be lower when there is a missing value in rating. We can investigate further."
   ]
  },
  {
   "cell_type": "code",
   "execution_count": 30,
   "metadata": {},
   "outputs": [
    {
     "data": {
      "text/plain": [
       "0 - 99             45532\n",
       "100 - 999          21596\n",
       "1000 - 9999         1302\n",
       "10000 - 99999         98\n",
       "100000 - 999999       33\n",
       "1000000 +              5\n",
       "Name: num_downloads_cat, dtype: int64"
      ]
     },
     "execution_count": 30,
     "metadata": {},
     "output_type": "execute_result"
    }
   ],
   "source": [
    "google_df[google_df.rating_app.isna()].num_downloads_cat.value_counts()"
   ]
  },
  {
   "cell_type": "code",
   "execution_count": 31,
   "metadata": {},
   "outputs": [
    {
     "data": {
      "text/plain": [
       "1000 - 9999        239492\n",
       "10000 - 99999      207768\n",
       "100 - 999          171715\n",
       "100000 - 999999    101084\n",
       "0 - 99              91122\n",
       "1000000 +           33052\n",
       "Name: num_downloads_cat, dtype: int64"
      ]
     },
     "execution_count": 31,
     "metadata": {},
     "output_type": "execute_result"
    }
   ],
   "source": [
    "google_df.num_downloads_cat.value_counts()"
   ]
  },
  {
   "cell_type": "code",
   "execution_count": 32,
   "metadata": {},
   "outputs": [
    {
     "data": {
      "text/plain": [
       "True     1211\n",
       "False      27\n",
       "Name: rating_app, dtype: int64"
      ]
     },
     "execution_count": 32,
     "metadata": {},
     "output_type": "execute_result"
    }
   ],
   "source": [
    "google_df.rating_app.loc[google_df.num_downloads_cat.isna()].isna().value_counts()"
   ]
  },
  {
   "cell_type": "code",
   "execution_count": 33,
   "metadata": {},
   "outputs": [
    {
     "data": {
      "text/plain": [
       "5.0    19\n",
       "3.0     2\n",
       "4.2     1\n",
       "3.7     1\n",
       "4.1     1\n",
       "3.6     1\n",
       "3.9     1\n",
       "1.5     1\n",
       "Name: rating_app, dtype: int64"
      ]
     },
     "execution_count": 33,
     "metadata": {},
     "output_type": "execute_result"
    }
   ],
   "source": [
    "google_df.rating_app.loc[google_df.num_downloads_cat.isna()].value_counts()"
   ]
  },
  {
   "cell_type": "markdown",
   "metadata": {},
   "source": [
    "Here we see that the change in distribution could be significantly different, and it might be usable as a predictor of NA rating. But that there is also a small problem, there are a few NA's found in the number of downloads, where most do not have a rating as well.\n",
    "\n",
    "To use the number of downloads we need to encode it as a one-hot encoded variable in order to be able to use it in the model. It is quite diffictult to give good names to the one-hot encoded variables as they are currently coded as numbers. We will use letters to indicate the categories:\n",
    "a = NA \n",
    "b =  0 - 99\n",
    "c = 100 - 999\n",
    "d = 1000 - 9999\n",
    "e = 10000 - 99999\n",
    "f = 100000 - 999999\n",
    "g = 1000000 +"
   ]
  },
  {
   "cell_type": "code",
   "execution_count": 34,
   "metadata": {},
   "outputs": [
    {
     "name": "stdout",
     "output_type": "stream",
     "text": [
      "  num_downloads_cat downloads_label  downloads_numlabel\n",
      "0         100 - 999     downloads_c                   2\n",
      "1         100 - 999     downloads_c                   2\n",
      "2         1000000 +     downloads_g                   6\n",
      "3            0 - 99     downloads_b                   1\n",
      "4            0 - 99     downloads_b                   1\n",
      "5            0 - 99     downloads_b                   1\n",
      "6            0 - 99     downloads_b                   1\n",
      "7            0 - 99     downloads_b                   1\n",
      "8         100 - 999     downloads_c                   2\n",
      "9            0 - 99     downloads_b                   1\n",
      "\n",
      "---- NA's ----\n",
      "    num_downloads_cat downloads_label  downloads_numlabel\n",
      "342               NaN     downloads_a                   0\n",
      "687               NaN     downloads_a                   0\n",
      "--------------\n"
     ]
    }
   ],
   "source": [
    "google_df[\"num_downloads_cat\"] = google_df[\"num_downloads_cat\"].astype('category')\n",
    "google_df[\"downloads_label\"] = google_df[\"num_downloads_cat\"].cat.codes\n",
    "google_df[\"downloads_label\"] = google_df.downloads_label.replace({-1 : 'a', 0 : 'b', 1 : 'c', 2 : 'd', 3 : 'e', 4 : 'f', 5: 'g'})\n",
    "google_df[\"downloads_label\"] = google_df.downloads_label.apply(lambda x: 'downloads_' + x)\n",
    "\n",
    "google_df[\"downloads_numlabel\"] = google_df[\"downloads_label\"].astype('category').cat.codes\n",
    "\n",
    "print(google_df[['num_downloads_cat', 'downloads_label', 'downloads_numlabel']].head(n=10))\n",
    "print(\"\")\n",
    "print(\"---- NA's ----\")\n",
    "print(google_df[['num_downloads_cat', 'downloads_label', 'downloads_numlabel']].loc[google_df.num_downloads_cat.isna()].head(n=2))\n",
    "print('--------------')\n",
    "\n",
    "OH_downloads = pd.get_dummies(google_df['downloads_label'])\n",
    "google_df = google_df.join(OH_downloads);"
   ]
  },
  {
   "cell_type": "code",
   "execution_count": 42,
   "metadata": {},
   "outputs": [],
   "source": [
    "google_df = google_df.drop(['permissions'], axis=1)"
   ]
  },
  {
   "cell_type": "code",
   "execution_count": 49,
   "metadata": {},
   "outputs": [],
   "source": [
    "def normalise_function(feature):\n",
    "    x = google_df[[feature]].values.astype(float)\n",
    "    min_max_scaler = preprocessing.MinMaxScaler()\n",
    "    x_scaled = min_max_scaler.fit_transform(x)\n",
    "    df_normalized = pd.DataFrame(x_scaled)\n",
    "    google_df[feature + '_normalized'] = df_normalized\n",
    "\n",
    "#sns.displot(google_df, x=google_df['nb_apps_developer'], bins =10)\n",
    "normalise_function('nb_apps_developer')\n",
    "normalise_function('age')\n",
    "normalise_function('nb_rating')\n",
    "normalise_function('nb_screenshots')\n",
    "normalise_function('nb_permissions')"
   ]
  },
  {
   "cell_type": "code",
   "execution_count": 51,
   "metadata": {},
   "outputs": [],
   "source": [
    "google_df.to_stata('../data/heckman.dta') "
   ]
  },
  {
   "cell_type": "code",
   "execution_count": 50,
   "metadata": {},
   "outputs": [
    {
     "name": "stdout",
     "output_type": "stream",
     "text": [
      "my_app_id\n",
      "rating_app\n",
      "nb_rating\n",
      "num_downloads\n",
      "price_gplay\n",
      "has_ads\n",
      "in_app\n",
      "num_downloads_cat\n",
      "nb_screenshots\n",
      "year_published\n",
      "age\n",
      "PEGI_12\n",
      "PEGI_16\n",
      "PEGI_18\n",
      "PEGI_3\n",
      "PEGI_7\n",
      "Parenta\n",
      "Unrated\n",
      "nan_content\n",
      "version\n",
      "version_1_0\n",
      "version_1_1\n",
      "version_1_5\n",
      "version_1_6\n",
      "version_2_0\n",
      "version_2_1\n",
      "version_2_2\n",
      "version_2_3\n",
      "version_3_0\n",
      "version_3_1\n",
      "version_3_2\n",
      "version_4_0\n",
      "version_4_1\n",
      "version_4_2\n",
      "version_4_3\n",
      "version_4_4\n",
      "version_5_0\n",
      "version_5_1\n",
      "version_6_0\n",
      "version_7_0\n",
      "version_7_1\n",
      "version_8_0\n",
      "version_Var\n",
      "version_nan_os\n",
      "nb_permissions\n",
      "nb_apps_developer\n",
      "free_app\n",
      "freeApp_x_hasAds\n",
      "freeApp_x_inApp\n",
      "freeApp_x_hasAds_inApp\n",
      "Action\n",
      "ActionANDAdventure\n",
      "Adventure\n",
      "Arcade\n",
      "ArtANDDesign\n",
      "AutoANDVehicles\n",
      "Beauty\n",
      "Board\n",
      "BooksANDReference\n",
      "BrainGames\n",
      "Business\n",
      "Card\n",
      "Casino\n",
      "Casual\n",
      "Comics\n",
      "Communication\n",
      "Creativity\n",
      "Dating\n",
      "Education\n",
      "Educational\n",
      "Entertainment\n",
      "Events\n",
      "Finance\n",
      "FoodANDDrink\n",
      "HealthANDFitness\n",
      "HouseANDHome\n",
      "LibrariesANDDemo\n",
      "Lifestyle\n",
      "MapsANDNavigation\n",
      "Medical\n",
      "Music\n",
      "MusicANDAudio\n",
      "MusicANDVideo\n",
      "NewsANDMagazines\n",
      "Parenting\n",
      "Personalization\n",
      "Photography\n",
      "PretendPlay\n",
      "Productivity\n",
      "Puzzle\n",
      "Racing\n",
      "RolePlaying\n",
      "Shopping\n",
      "Simulation\n",
      "Social\n",
      "Sports\n",
      "Strategy\n",
      "Tools\n",
      "TravelANDLocal\n",
      "Trivia\n",
      "VideoPlayersANDEditors\n",
      "Weather\n",
      "Word\n",
      "NA_rating\n",
      "downloads_label\n",
      "downloads_numlabel\n",
      "downloads_a\n",
      "downloads_b\n",
      "downloads_c\n",
      "downloads_d\n",
      "downloads_e\n",
      "downloads_f\n",
      "downloads_g\n",
      "nb_apps_developer_normalized\n",
      "age_normalized\n",
      "nb_rating_normalized\n",
      "nb_screenshots_normalized\n",
      "nb_permissions_normalized\n"
     ]
    }
   ],
   "source": [
    "[print(column) for column in google_df.columns];"
   ]
  },
  {
   "cell_type": "markdown",
   "metadata": {},
   "source": [
    "# Heckman analysis"
   ]
  },
  {
   "cell_type": "code",
   "execution_count": 45,
   "metadata": {},
   "outputs": [
    {
     "data": {
      "text/plain": [
       "0         2\n",
       "1         2\n",
       "2         6\n",
       "3         1\n",
       "4         1\n",
       "         ..\n",
       "845466    3\n",
       "845467    4\n",
       "845468    4\n",
       "845469    3\n",
       "845470    4\n",
       "Name: downloads_numlabel, Length: 845471, dtype: int8"
      ]
     },
     "execution_count": 45,
     "metadata": {},
     "output_type": "execute_result"
    }
   ],
   "source": [
    "google_df.downloads_numlabel"
   ]
  },
  {
   "cell_type": "code",
   "execution_count": 91,
   "metadata": {},
   "outputs": [
    {
     "ename": "ImportError",
     "evalue": "cannot import name 'heckman' from 'statsmodels.regression' (C:\\Users\\s159907\\Anaconda3\\lib\\site-packages\\statsmodels\\regression\\__init__.py)",
     "output_type": "error",
     "traceback": [
      "\u001b[1;31m---------------------------------------------------------------------------\u001b[0m",
      "\u001b[1;31mImportError\u001b[0m                               Traceback (most recent call last)",
      "\u001b[1;32m<ipython-input-91-2e65f4cb6e6d>\u001b[0m in \u001b[0;36m<module>\u001b[1;34m\u001b[0m\n\u001b[1;32m----> 1\u001b[1;33m \u001b[1;32mfrom\u001b[0m \u001b[0mstatsmodels\u001b[0m\u001b[1;33m.\u001b[0m\u001b[0mregression\u001b[0m \u001b[1;32mimport\u001b[0m \u001b[0mheckman\u001b[0m\u001b[1;33m\u001b[0m\u001b[1;33m\u001b[0m\u001b[0m\n\u001b[0m\u001b[0;32m      2\u001b[0m \u001b[1;33m\u001b[0m\u001b[0m\n\u001b[0;32m      3\u001b[0m \u001b[0mmodel_vars\u001b[0m \u001b[1;33m=\u001b[0m \u001b[0mgoogle_df\u001b[0m\u001b[1;33m[\u001b[0m\u001b[1;33m[\u001b[0m\u001b[1;34m'free_app'\u001b[0m\u001b[1;33m,\u001b[0m\u001b[1;34m'in_app'\u001b[0m\u001b[1;33m,\u001b[0m \u001b[1;34m'has_ads'\u001b[0m\u001b[1;33m,\u001b[0m  \u001b[1;34m'PEGI_12'\u001b[0m\u001b[1;33m,\u001b[0m \u001b[1;34m'PEGI_16'\u001b[0m\u001b[1;33m,\u001b[0m \u001b[1;34m'PEGI_18'\u001b[0m\u001b[1;33m,\u001b[0m \u001b[1;34m'PEGI_3'\u001b[0m\u001b[1;33m,\u001b[0m \u001b[1;34m'PEGI_7'\u001b[0m\u001b[1;33m,\u001b[0m \u001b[1;34m'Parenta'\u001b[0m\u001b[1;33m,\u001b[0m \u001b[1;34m'Unrated'\u001b[0m\u001b[1;33m,\u001b[0m \u001b[1;34m'version_1_0'\u001b[0m\u001b[1;33m,\u001b[0m \u001b[1;34m'version_1_1'\u001b[0m\u001b[1;33m,\u001b[0m \u001b[1;34m'version_1_5'\u001b[0m\u001b[1;33m,\u001b[0m \u001b[1;34m'version_1_6'\u001b[0m\u001b[1;33m,\u001b[0m \u001b[1;34m'version_2_0'\u001b[0m\u001b[1;33m,\u001b[0m \u001b[1;34m'version_2_1'\u001b[0m\u001b[1;33m,\u001b[0m \u001b[1;34m'version_2_2'\u001b[0m\u001b[1;33m,\u001b[0m \u001b[1;34m'version_2_3'\u001b[0m\u001b[1;33m,\u001b[0m \u001b[1;34m'version_3_0'\u001b[0m\u001b[1;33m,\u001b[0m \u001b[1;34m'version_3_1'\u001b[0m\u001b[1;33m,\u001b[0m \u001b[1;34m'version_3_2'\u001b[0m\u001b[1;33m,\u001b[0m \u001b[1;34m'version_4_0'\u001b[0m\u001b[1;33m,\u001b[0m \u001b[1;34m'version_4_1'\u001b[0m\u001b[1;33m,\u001b[0m \u001b[1;34m'version_4_2'\u001b[0m\u001b[1;33m,\u001b[0m \u001b[1;34m'version_4_3'\u001b[0m\u001b[1;33m,\u001b[0m \u001b[1;34m'version_4_4'\u001b[0m\u001b[1;33m,\u001b[0m \u001b[1;34m'version_5_0'\u001b[0m\u001b[1;33m,\u001b[0m \u001b[1;34m'version_5_1'\u001b[0m\u001b[1;33m,\u001b[0m \u001b[1;34m'version_6_0'\u001b[0m\u001b[1;33m,\u001b[0m \u001b[1;34m'version_7_0'\u001b[0m\u001b[1;33m,\u001b[0m \u001b[1;34m'version_7_1'\u001b[0m\u001b[1;33m,\u001b[0m \u001b[1;34m'version_8_0'\u001b[0m\u001b[1;33m,\u001b[0m \u001b[1;34m'version_Var'\u001b[0m\u001b[1;33m,\u001b[0m \u001b[1;34m'Action'\u001b[0m\u001b[1;33m,\u001b[0m \u001b[1;34m'ActionANDAdventure'\u001b[0m\u001b[1;33m,\u001b[0m \u001b[1;34m'Adventure'\u001b[0m\u001b[1;33m,\u001b[0m \u001b[1;34m'Arcade'\u001b[0m\u001b[1;33m,\u001b[0m \u001b[1;34m'AutoANDVehicles'\u001b[0m\u001b[1;33m,\u001b[0m \u001b[1;34m'Beauty'\u001b[0m\u001b[1;33m,\u001b[0m \u001b[1;34m'Board'\u001b[0m\u001b[1;33m,\u001b[0m \u001b[1;34m'BooksANDReference'\u001b[0m\u001b[1;33m,\u001b[0m \u001b[1;34m'BrainGames'\u001b[0m\u001b[1;33m,\u001b[0m \u001b[1;34m'Business'\u001b[0m\u001b[1;33m,\u001b[0m \u001b[1;34m'Card'\u001b[0m\u001b[1;33m,\u001b[0m \u001b[1;34m'Casino'\u001b[0m\u001b[1;33m,\u001b[0m \u001b[1;34m'Casual'\u001b[0m\u001b[1;33m,\u001b[0m \u001b[1;34m'Comics'\u001b[0m\u001b[1;33m,\u001b[0m \u001b[1;34m'Communication'\u001b[0m\u001b[1;33m,\u001b[0m \u001b[1;34m'Creativity'\u001b[0m\u001b[1;33m,\u001b[0m \u001b[1;34m'Dating'\u001b[0m\u001b[1;33m,\u001b[0m \u001b[1;34m'Education'\u001b[0m\u001b[1;33m,\u001b[0m \u001b[1;34m'Educational'\u001b[0m\u001b[1;33m,\u001b[0m \u001b[1;34m'Entertainment'\u001b[0m\u001b[1;33m,\u001b[0m \u001b[1;34m'Events'\u001b[0m\u001b[1;33m,\u001b[0m \u001b[1;34m'Finance'\u001b[0m\u001b[1;33m,\u001b[0m \u001b[1;34m'FoodANDDrink'\u001b[0m\u001b[1;33m,\u001b[0m \u001b[1;34m'HealthANDFitness'\u001b[0m\u001b[1;33m,\u001b[0m \u001b[1;34m'HouseANDHome'\u001b[0m\u001b[1;33m,\u001b[0m \u001b[1;34m'LibrariesANDDemo'\u001b[0m\u001b[1;33m,\u001b[0m \u001b[1;34m'Lifestyle'\u001b[0m\u001b[1;33m,\u001b[0m \u001b[1;34m'MapsANDNavigation'\u001b[0m\u001b[1;33m,\u001b[0m \u001b[1;34m'Medical'\u001b[0m\u001b[1;33m,\u001b[0m \u001b[1;34m'Music'\u001b[0m\u001b[1;33m,\u001b[0m \u001b[1;34m'MusicANDAudio'\u001b[0m\u001b[1;33m,\u001b[0m \u001b[1;34m'MusicANDVideo'\u001b[0m\u001b[1;33m,\u001b[0m \u001b[1;34m'NewsANDMagazines'\u001b[0m\u001b[1;33m,\u001b[0m \u001b[1;34m'Parenting'\u001b[0m\u001b[1;33m,\u001b[0m \u001b[1;34m'Personalization'\u001b[0m\u001b[1;33m,\u001b[0m \u001b[1;34m'Photography'\u001b[0m\u001b[1;33m,\u001b[0m \u001b[1;34m'PretendPlay'\u001b[0m\u001b[1;33m,\u001b[0m \u001b[1;34m'Productivity'\u001b[0m\u001b[1;33m,\u001b[0m \u001b[1;34m'Puzzle'\u001b[0m\u001b[1;33m,\u001b[0m \u001b[1;34m'Racing'\u001b[0m\u001b[1;33m,\u001b[0m \u001b[1;34m'RolePlaying'\u001b[0m\u001b[1;33m,\u001b[0m \u001b[1;34m'Shopping'\u001b[0m\u001b[1;33m,\u001b[0m \u001b[1;34m'Simulation'\u001b[0m\u001b[1;33m,\u001b[0m \u001b[1;34m'Social'\u001b[0m\u001b[1;33m,\u001b[0m \u001b[1;34m'Sports'\u001b[0m\u001b[1;33m,\u001b[0m \u001b[1;34m'Strategy'\u001b[0m\u001b[1;33m,\u001b[0m \u001b[1;34m'Tools'\u001b[0m\u001b[1;33m,\u001b[0m \u001b[1;34m'TravelANDLocal'\u001b[0m\u001b[1;33m,\u001b[0m \u001b[1;34m'Trivia'\u001b[0m\u001b[1;33m,\u001b[0m \u001b[1;34m'VideoPlayersANDEditors'\u001b[0m\u001b[1;33m,\u001b[0m \u001b[1;34m'Weather'\u001b[0m\u001b[1;33m,\u001b[0m \u001b[1;34m'Word'\u001b[0m\u001b[1;33m]\u001b[0m\u001b[1;33m]\u001b[0m\u001b[1;33m\u001b[0m\u001b[1;33m\u001b[0m\u001b[0m\n\u001b[0;32m      4\u001b[0m \u001b[0mselect_vars\u001b[0m \u001b[1;33m=\u001b[0m \u001b[0mgoogle_df\u001b[0m\u001b[1;33m[\u001b[0m\u001b[1;33m[\u001b[0m\u001b[1;34m'downloads_a'\u001b[0m \u001b[1;33m+\u001b[0m \u001b[1;34m'downloads_b'\u001b[0m \u001b[1;33m+\u001b[0m \u001b[1;34m'downloads_c'\u001b[0m \u001b[1;33m+\u001b[0m \u001b[1;34m'downloads_d'\u001b[0m \u001b[1;33m+\u001b[0m \u001b[1;34m'downloads_e'\u001b[0m \u001b[1;33m+\u001b[0m \u001b[1;34m'downloads_f'\u001b[0m \u001b[1;33m+\u001b[0m \u001b[1;34m'downloads_g'\u001b[0m\u001b[1;33m]\u001b[0m\u001b[1;33m]\u001b[0m\u001b[1;33m\u001b[0m\u001b[1;33m\u001b[0m\u001b[0m\n\u001b[0;32m      5\u001b[0m \u001b[1;33m\u001b[0m\u001b[0m\n",
      "\u001b[1;31mImportError\u001b[0m: cannot import name 'heckman' from 'statsmodels.regression' (C:\\Users\\s159907\\Anaconda3\\lib\\site-packages\\statsmodels\\regression\\__init__.py)"
     ]
    }
   ],
   "source": [
    "from statsmodels.regression import heckman\n",
    "\n",
    "model_vars = google_df[['free_app','in_app', 'has_ads',  'PEGI_12', 'PEGI_16', 'PEGI_18', 'PEGI_3', 'PEGI_7', 'Parenta', 'Unrated', 'version_1_0', 'version_1_1', 'version_1_5', 'version_1_6', 'version_2_0', 'version_2_1', 'version_2_2', 'version_2_3', 'version_3_0', 'version_3_1', 'version_3_2', 'version_4_0', 'version_4_1', 'version_4_2', 'version_4_3', 'version_4_4', 'version_5_0', 'version_5_1', 'version_6_0', 'version_7_0', 'version_7_1', 'version_8_0', 'version_Var', 'Action', 'ActionANDAdventure', 'Adventure', 'Arcade', 'AutoANDVehicles', 'Beauty', 'Board', 'BooksANDReference', 'BrainGames', 'Business', 'Card', 'Casino', 'Casual', 'Comics', 'Communication', 'Creativity', 'Dating', 'Education', 'Educational', 'Entertainment', 'Events', 'Finance', 'FoodANDDrink', 'HealthANDFitness', 'HouseANDHome', 'LibrariesANDDemo', 'Lifestyle', 'MapsANDNavigation', 'Medical', 'Music', 'MusicANDAudio', 'MusicANDVideo', 'NewsANDMagazines', 'Parenting', 'Personalization', 'Photography', 'PretendPlay', 'Productivity', 'Puzzle', 'Racing', 'RolePlaying', 'Shopping', 'Simulation', 'Social', 'Sports', 'Strategy', 'Tools', 'TravelANDLocal', 'Trivia', 'VideoPlayersANDEditors', 'Weather', 'Word']]\n",
    "select_vars = google_df[['downloads_a' + 'downloads_b' + 'downloads_c' + 'downloads_d' + 'downloads_e' + 'downloads_f' + 'downloads_g']]\n",
    "\n",
    "res = heckman.Heckman(rating_app, X, w_).fit(method='twostep')\n",
    "print(res.summary())\n",
    "\n",
    "#Blijkbaar werkt Heckman in python nog niet"
   ]
  },
  {
   "cell_type": "code",
   "execution_count": 17,
   "metadata": {},
   "outputs": [],
   "source": [
    "google_df.to_csv('../Data/HeckmanR.csv',index=False)"
   ]
  },
  {
   "cell_type": "markdown",
   "metadata": {},
   "source": [
    "The rest of the code is in the R notebook"
   ]
  }
 ],
 "metadata": {
  "kernelspec": {
   "display_name": "Python 3",
   "language": "python",
   "name": "python3"
  },
  "language_info": {
   "codemirror_mode": {
    "name": "ipython",
    "version": 3
   },
   "file_extension": ".py",
   "mimetype": "text/x-python",
   "name": "python",
   "nbconvert_exporter": "python",
   "pygments_lexer": "ipython3",
   "version": "3.8.3"
  }
 },
 "nbformat": 4,
 "nbformat_minor": 4
}
