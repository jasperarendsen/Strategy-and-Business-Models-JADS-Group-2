{
 "cells": [
  {
   "cell_type": "markdown",
   "metadata": {},
   "source": [
    "# Heckman model"
   ]
  },
  {
   "cell_type": "code",
   "execution_count": 1,
   "metadata": {},
   "outputs": [],
   "source": [
    "import pandas as pd\n",
    "import time\n",
    "import statsmodels.formula.api as sm\n",
    "import numpy as np\n",
    "import matplotlib.pyplot as plt\n",
    "import seaborn as sns\n",
    "from statsmodels.tools.tools import add_constant\n",
    "from sklearn import datasets, linear_model, preprocessing\n",
    "from sklearn.model_selection import train_test_split\n",
    "from statsmodels.graphics.gofplots import qqplot\n",
    "from scipy import stats"
   ]
  },
  {
   "cell_type": "code",
   "execution_count": 2,
   "metadata": {},
   "outputs": [],
   "source": [
    "#Run the line below if you start with the full data set\n",
    "google_last_df = pd.read_csv(\"../Data/google_data_last.csv\",encoding='cp1252')\n",
    "\n",
    "#Run the line below if you start with the full data set\n",
    "data = google_last_df.copy()"
   ]
  },
  {
   "cell_type": "code",
   "execution_count": null,
   "metadata": {},
   "outputs": [],
   "source": [
    "#looking at the NA's in rating and number of ratings\n",
    "google_df[google_df.rating_app.isna()][['rating_app']].describe()\n",
    "# Here we conclude that in most cases the missing values in rating_app & nb_rating are caused by no ratings being present so for RQ1 we can safely discard the missing values.\n",
    "#Now we can look at the missing values in number of downloads.\n",
    "\n",
    "#looking at number of downloads\n",
    "google_df[google_df.num_downloads.isna()]\n",
    "google_df[google_df.num_downloads.isna()][['nb_rating']].describe()\n",
    "#We can see that a missing value in number of downloads often pairs with a missing value in rating, number of ratings and price. The datapoints with a missing number of downloads were either never downloaded, \n",
    "#or are a result of an error whilst gathering the data. We can never be sure about the first case, so we cannot convert them all to 0. Therefore we assume they are errors and delete these datapoints.\n",
    "\n",
    "google_df = google_df.dropna(subset=['rating_app']) #comment voor goede dataset"
   ]
  }
 ],
 "metadata": {
  "kernelspec": {
   "display_name": "Python 3",
   "language": "python",
   "name": "python3"
  },
  "language_info": {
   "codemirror_mode": {
    "name": "ipython",
    "version": 3
   },
   "file_extension": ".py",
   "mimetype": "text/x-python",
   "name": "python",
   "nbconvert_exporter": "python",
   "pygments_lexer": "ipython3",
   "version": "3.8.5"
  }
 },
 "nbformat": 4,
 "nbformat_minor": 4
}
