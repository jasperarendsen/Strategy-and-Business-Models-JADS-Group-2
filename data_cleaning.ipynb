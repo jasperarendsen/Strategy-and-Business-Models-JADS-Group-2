{
 "cells": [
  {
   "cell_type": "markdown",
   "metadata": {},
   "source": [
    "# SBM assignment - Data Cleaning and Inspection\n",
    "\n",
    "### Importing packages"
   ]
  },
  {
   "cell_type": "code",
   "execution_count": 41,
   "metadata": {},
   "outputs": [],
   "source": [
    "import seaborn as sns\n",
    "import matplotlib.pyplot as plt\n",
    "import pandas as pd\n",
    "import time\n",
    "from datetime import datetime\n",
    "import numpy as np"
   ]
  },
  {
   "cell_type": "markdown",
   "metadata": {},
   "source": [
    "### Loading dataset"
   ]
  },
  {
   "cell_type": "code",
   "execution_count": 28,
   "metadata": {},
   "outputs": [],
   "source": [
    "google_last_df = pd.read_csv(\"../Data/google_data_last.csv\",encoding='cp1252')\n",
    "# google_df = google_df.sample(n=1000, random_state=1) #uncomment to run on sample"
   ]
  },
  {
   "cell_type": "code",
   "execution_count": 29,
   "metadata": {},
   "outputs": [],
   "source": [
    "data = google_last_df.copy()"
   ]
  },
  {
   "cell_type": "code",
   "execution_count": 30,
   "metadata": {},
   "outputs": [
    {
     "data": {
      "text/plain": [
       "Index(['Unnamed: 0', 'my_app_id', 'date_published', 'privacy_policy',\n",
       "       'rating_app', 'nb_rating', 'num_downloads', 'content_rating_app',\n",
       "       'developer', 'categ_app', 'in_app', 'has_ads', 'price_gplay',\n",
       "       'operating_system', 'software_version', 'interactive_element',\n",
       "       'in_app_product', 'developer_name', 'nb_screenshots', 'description',\n",
       "       'whats_new', 'email_to', 'developer_info', 'similar_apps_top15',\n",
       "       'visit_website', 'more_from_developer', 'family_library',\n",
       "       'permissions'],\n",
       "      dtype='object')"
      ]
     },
     "execution_count": 30,
     "metadata": {},
     "output_type": "execute_result"
    }
   ],
   "source": [
    "data.columns"
   ]
  },
  {
   "cell_type": "code",
   "execution_count": 81,
   "metadata": {},
   "outputs": [
    {
     "data": {
      "text/plain": [
       "4.1 and up      183575\n",
       "4.0.3 and up    134671\n",
       "4.0 and up      131608\n",
       "2.3 and up       76108\n",
       "4.4 and up       67405\n",
       "                 ...  \n",
       "2.1 - 7.0            1\n",
       "2.1 - 5.1            1\n",
       "2.1 - 4.0.2          1\n",
       "2.3 - 4.2.2          1\n",
       "2.1 - 4.2.2          1\n",
       "Name: operating_system, Length: 188, dtype: int64"
      ]
     },
     "execution_count": 81,
     "metadata": {},
     "output_type": "execute_result"
    }
   ],
   "source": [
    "data.operating_system.value_counts()"
   ]
  },
  {
   "cell_type": "markdown",
   "metadata": {},
   "source": [
    "### Cleaning the data"
   ]
  },
  {
   "cell_type": "code",
   "execution_count": 112,
   "metadata": {},
   "outputs": [],
   "source": [
    "#Filter variables\n",
    "google_df = data[['my_app_id','rating_app','nb_rating', 'num_downloads', 'price_gplay', 'has_ads', 'in_app', 'categ_app', 'date_published', 'software_version', 'content_rating_app', 'more_from_developer']].copy()"
   ]
  },
  {
   "cell_type": "code",
   "execution_count": 113,
   "metadata": {},
   "outputs": [],
   "source": [
    "#looking at the NA's in rating and number of ratings\n",
    "google_df[google_df.rating_app.isna()][['rating_app']].describe()\n",
    "# Here we conclude that in most cases the missing values in rating_app & nb_rating are caused by no ratings being present so for RQ1 we can safely discard the missing values.\n",
    "#Now we can look at the missing values in number of downloads.\n",
    "\n",
    "#looking at number of downloads\n",
    "google_df[google_df.num_downloads.isna()]\n",
    "google_df[google_df.num_downloads.isna()][['nb_rating']].describe()\n",
    "#We can see that a missing value in number of downloads often pairs with a missing value in rating, number of ratings and price. The datapoints with a missing number of downloads were either never downloaded, \n",
    "#or are a result of an error whilst gathering the data. We can never be sure about the first case, so we cannot convert them all to 0. Therefore we assume they are errors and delete these datapoints.\n",
    "\n",
    "google_df = google_df.dropna(subset=['rating_app']) #comment voor goede dataset"
   ]
  },
  {
   "cell_type": "code",
   "execution_count": 114,
   "metadata": {},
   "outputs": [],
   "source": [
    "#create year and month published\n",
    "google_df['year_published'] = data.date_published.apply(lambda x: str(x)[-4:])\n",
    "google_df['year_published'] = google_df['year_published'].replace({'span': 2012}, regex=True)\n",
    "google_df['year_published'] = google_df['year_published'].astype(float)\n",
    "google_df = google_df.drop('date_published', axis=1)\n",
    "google_df['age'] = google_df.year_published.apply(lambda x: 2020 - x)\n",
    "\n",
    "#content rating of app\n",
    "google_df['content_rating_app'] = google_df.content_rating_app.apply(lambda x: str(x)[:7])\n",
    "google_df.content_rating_app = google_df.content_rating_app.replace('nan', 'nan_content', regex = True)\n",
    "OH_content = pd.get_dummies(google_df['content_rating_app'])\n",
    "google_df = google_df.drop('content_rating_app', axis=1)\n",
    "google_df = google_df.join(OH_content)\n",
    "\n",
    "#number of apps per developer\n",
    "google_df['nb_apps_developer'] = data.more_from_developer.apply(lambda x: 1 if type(x) == float else x.count(',') + 2)\n",
    "\n",
    "#number of new versions\n",
    "google_df['version'] = data.software_version.apply(lambda x: str(x)[:1])\n",
    "google_df = google_df.drop('software_version', axis=1)\n",
    "\n",
    "#minimal app operating system\n",
    "google_df['min_operating_system'] = data.operating_system.apply(lambda x: str(x)[:3])\n",
    "google_df.min_operating_system = google_df.min_operating_system.replace('nan', 'nan_os', regex = True)\n",
    "OH_OS = pd.get_dummies(google_df['min_operating_system'])\n",
    "google_df = google_df.drop('min_operating_system', axis=1)\n",
    "google_df = google_df.join(OH_OS)\n",
    "\n",
    "#clean num_download\n",
    "google_df.num_downloads = google_df.num_downloads.str.replace('+','')\n",
    "google_df.num_downloads = google_df.num_downloads.str.replace('>','')\n",
    "google_df.num_downloads = google_df.num_downloads.str.replace(' ','')\n",
    "google_df.num_downloads = google_df.num_downloads.str.replace(',','')\n",
    "google_df.num_downloads = google_df.num_downloads.astype('float')\n",
    "\n",
    "#add a new column with the nr of downloads as a catagory \n",
    "category = pd.cut(google_df.num_downloads, bins=[0,99,999,9999,99999,999999, 99999999999], labels=['0 - 99','100 - 999','1000 - 9999','10000 - 99999', '100000 - 999999', '1000000 +'])\n",
    "google_df.insert(8,'num_downloads_cat', category)\n",
    "\n",
    "#Make new column with free vs paid boolean\n",
    "zero_values = ['0', '0 USD', '0 SEK', '0 GBP', '0 MXN', '0 HKD', '0 KRW', '0 CZK', '0 CAD', '0 AED', '0 DKK', '0 IDR', '0 TWD', '0 INR', '0 CLP', '0 SAR', '0 ILS', '0 RUB', '0 AUD', '0 PLN','0 CHF', '0 MYR', '0 TRY', '0 BRL', '0 BGN', '0 UAH', '0 JPY', '0 EUR'] \n",
    "for value in zero_values:\n",
    "    google_df['price_gplay'] = google_df['price_gplay'].replace([value],0)\n",
    "google_df['free_app'] = google_df['price_gplay'] ==  0\n",
    "\n",
    "'''\n",
    "#Make a variable that has all possible catagories resulting from combinations of the booleans: free_app, has_ads and in_app\n",
    "category = [     'free_noads_noinapp' if     google_df.loc[row].free_app and not google_df.loc[row].has_ads and not google_df.loc[row].in_app\n",
    "            else 'free_noads_inapp'   if     google_df.loc[row].free_app and not google_df.loc[row].has_ads and     google_df.loc[row].in_app\n",
    "            else 'free_ads_noinapp'   if     google_df.loc[row].free_app and     google_df.loc[row].has_ads and not google_df.loc[row].in_app\n",
    "            else 'free_ads_inapp'     if     google_df.loc[row].free_app and     google_df.loc[row].has_ads and     google_df.loc[row].in_app\n",
    "            else 'paid_noads_noinapp' if not google_df.loc[row].free_app and not google_df.loc[row].has_ads and not google_df.loc[row].in_app \n",
    "            else 'paid_noads_inapp'   if not google_df.loc[row].free_app and not google_df.loc[row].has_ads and     google_df.loc[row].in_app\n",
    "            else 'paid_ads_noinapp'   if not google_df.loc[row].free_app and     google_df.loc[row].has_ads and not google_df.loc[row].in_app\n",
    "            else 'paid_ads_inapp'     for row in google_df.index]\n",
    "google_df['category'] = category\n",
    "'''\n",
    "\n",
    "#clean rating variable\n",
    "google_df.nb_rating = google_df.nb_rating.str.replace(',','')\n",
    "google_df.nb_rating = google_df.nb_rating.astype('float')\n",
    "\n",
    "#create interaction variables\n",
    "google_df['freeApp_x_hasAds'] = google_df['free_app'] & google_df['has_ads']\n",
    "google_df['freeApp_x_inApp'] = google_df['free_app'] & google_df['in_app']\n",
    "google_df['freeApp_x_hasAds_inApp'] = google_df['free_app'] & google_df['has_ads'] & google_df['in_app']\n",
    "\n",
    "#turn catagorical variables into one-hot variables\n",
    "OH_categ_app = pd.get_dummies(google_df['categ_app'])\n",
    "google_df = google_df.drop('categ_app', axis=1)\n",
    "google_df = google_df.join(OH_categ_app)"
   ]
  },
  {
   "cell_type": "code",
   "execution_count": 115,
   "metadata": {},
   "outputs": [
    {
     "data": {
      "text/plain": [
       "['my_app_id',\n",
       " 'rating_app',\n",
       " 'nb_rating',\n",
       " 'num_downloads',\n",
       " 'price_gplay',\n",
       " 'has_ads',\n",
       " 'in_app',\n",
       " 'num_downloads_cat',\n",
       " 'more_from_developer',\n",
       " 'year_published',\n",
       " 'age',\n",
       " 'PEGI 12',\n",
       " 'PEGI 16',\n",
       " 'PEGI 18',\n",
       " 'PEGI 3',\n",
       " 'PEGI 7 ',\n",
       " 'Parenta',\n",
       " 'Unrated',\n",
       " 'nan_content',\n",
       " 'nb_apps_developer',\n",
       " 'version',\n",
       " '1.0',\n",
       " '1.1',\n",
       " '1.5',\n",
       " '1.6',\n",
       " '2.0',\n",
       " '2.1',\n",
       " '2.2',\n",
       " '2.3',\n",
       " '3.0',\n",
       " '3.1',\n",
       " '3.2',\n",
       " '4.0',\n",
       " '4.1',\n",
       " '4.2',\n",
       " '4.3',\n",
       " '4.4',\n",
       " '5.0',\n",
       " '5.1',\n",
       " '6.0',\n",
       " '7.0',\n",
       " '7.1',\n",
       " '8.0',\n",
       " 'Var',\n",
       " 'nan_os',\n",
       " 'free_app',\n",
       " 'freeApp_x_hasAds',\n",
       " 'freeApp_x_inApp',\n",
       " 'freeApp_x_hasAds_inApp',\n",
       " 'Action',\n",
       " 'Action & Adventure',\n",
       " 'Adventure',\n",
       " 'Arcade',\n",
       " 'Art & Design',\n",
       " 'Auto & Vehicles',\n",
       " 'Beauty',\n",
       " 'Board',\n",
       " 'Books & Reference',\n",
       " 'Brain Games',\n",
       " 'Business',\n",
       " 'Card',\n",
       " 'Casino',\n",
       " 'Casual',\n",
       " 'Comics',\n",
       " 'Communication',\n",
       " 'Creativity',\n",
       " 'Dating',\n",
       " 'Education',\n",
       " 'Educational',\n",
       " 'Entertainment',\n",
       " 'Events',\n",
       " 'Finance',\n",
       " 'Food & Drink',\n",
       " 'Health & Fitness',\n",
       " 'House & Home',\n",
       " 'Libraries & Demo',\n",
       " 'Lifestyle',\n",
       " 'Maps & Navigation',\n",
       " 'Medical',\n",
       " 'Music',\n",
       " 'Music & Audio',\n",
       " 'Music & Video',\n",
       " 'News & Magazines',\n",
       " 'Parenting',\n",
       " 'Personalization',\n",
       " 'Photography',\n",
       " 'Pretend Play',\n",
       " 'Productivity',\n",
       " 'Puzzle',\n",
       " 'Racing',\n",
       " 'Role Playing',\n",
       " 'Shopping',\n",
       " 'Simulation',\n",
       " 'Social',\n",
       " 'Sports',\n",
       " 'Strategy',\n",
       " 'Tools',\n",
       " 'Travel & Local',\n",
       " 'Trivia',\n",
       " 'Video Players & Editors',\n",
       " 'Weather',\n",
       " 'Word']"
      ]
     },
     "execution_count": 115,
     "metadata": {},
     "output_type": "execute_result"
    }
   ],
   "source": [
    "[value for value in google_df.columns]"
   ]
  },
  {
   "cell_type": "markdown",
   "metadata": {},
   "source": [
    "# Wat er nog moet gebeuren aan features:\n",
    "- Developer moet one-hot encoded maar 250.000 verschillende developers\n",
    "- Age is nu aantal jaar, kan misschien aantal dagen worden\n",
    "- Operating system pakt nu alleen eerte drie, dus bijv 4.0.3 word 4.09"
   ]
  },
  {
   "cell_type": "markdown",
   "metadata": {},
   "source": [
    "### Save the file"
   ]
  },
  {
   "cell_type": "code",
   "execution_count": 10,
   "metadata": {},
   "outputs": [],
   "source": [
    "google_df.to_csv('../Data/cleaned.csv',index=False)"
   ]
  }
 ],
 "metadata": {
  "kernelspec": {
   "display_name": "Python 3",
   "language": "python",
   "name": "python3"
  },
  "language_info": {
   "codemirror_mode": {
    "name": "ipython",
    "version": 3
   },
   "file_extension": ".py",
   "mimetype": "text/x-python",
   "name": "python",
   "nbconvert_exporter": "python",
   "pygments_lexer": "ipython3",
   "version": "3.8.3"
  }
 },
 "nbformat": 4,
 "nbformat_minor": 4
}
