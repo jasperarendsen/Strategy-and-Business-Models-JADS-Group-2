{
 "cells": [
  {
   "cell_type": "markdown",
   "metadata": {},
   "source": [
    "# SBM assignment - Data Cleaning and Inspection\n",
    "\n",
    "### Importing packages"
   ]
  },
  {
   "cell_type": "code",
   "execution_count": 103,
   "metadata": {},
   "outputs": [],
   "source": [
    "#all required imports \n",
    "\n",
    "import seaborn as sns\n",
    "import matplotlib.pyplot as plt\n",
    "import pandas as pd\n",
    "import time\n",
    "from datetime import datetime\n",
    "import numpy as np\n",
    "import os\n",
    "from numpy import cov"
   ]
  },
  {
   "cell_type": "markdown",
   "metadata": {},
   "source": [
    "### Loading dataset"
   ]
  },
  {
   "cell_type": "code",
   "execution_count": 104,
   "metadata": {},
   "outputs": [],
   "source": [
    "#load the dataset\n",
    "google_last_df = pd.read_csv(\"C:/Users/s149077/source/repos/jasperarendsen/Strategy-and-Business-Models-JADS-Group-2/Data/google_data_last.csv\",encoding='cp1252')"
   ]
  },
  {
   "cell_type": "code",
   "execution_count": 124,
   "metadata": {},
   "outputs": [
    {
     "output_type": "stream",
     "name": "stderr",
     "text": [
      "\nKeyboardInterrupt\n\n"
     ]
    }
   ],
   "source": [
    "#reset dataset\n",
    "google_df = google_last_df.copy()"
   ]
  },
  {
   "cell_type": "code",
   "execution_count": 106,
   "metadata": {},
   "outputs": [
    {
     "output_type": "execute_result",
     "data": {
      "text/plain": [
       "Index(['Unnamed: 0', 'my_app_id', 'date_published', 'privacy_policy',\n",
       "       'rating_app', 'nb_rating', 'num_downloads', 'content_rating_app',\n",
       "       'developer', 'categ_app', 'in_app', 'has_ads', 'price_gplay',\n",
       "       'operating_system', 'software_version', 'interactive_element',\n",
       "       'in_app_product', 'developer_name', 'nb_screenshots', 'description',\n",
       "       'whats_new', 'email_to', 'developer_info', 'similar_apps_top15',\n",
       "       'visit_website', 'more_from_developer', 'family_library',\n",
       "       'permissions'],\n",
       "      dtype='object')"
      ]
     },
     "metadata": {},
     "execution_count": 106
    }
   ],
   "source": [
    "#check column names\n",
    "google_df.columns"
   ]
  },
  {
   "cell_type": "code",
   "execution_count": 107,
   "metadata": {},
   "outputs": [
    {
     "output_type": "stream",
     "name": "stdout",
     "text": [
      "28\n845471\n"
     ]
    }
   ],
   "source": [
    "#determine number off applications and check for duplicates\n",
    "print(len(set(google_df)))\n",
    "print(len(google_df))"
   ]
  },
  {
   "cell_type": "code",
   "execution_count": 125,
   "metadata": {},
   "outputs": [],
   "source": [
    "#Filter variables\n",
    "\n",
    "#run the line below if you start with the full dataset\n",
    "google_df = google_df[['my_app_id','rating_app','nb_rating', 'num_downloads', 'price_gplay', 'has_ads', 'in_app', 'categ_app', 'date_published', 'software_version', 'content_rating_app', 'more_from_developer', 'nb_screenshots', 'permissions', 'operating_system']].copy()"
   ]
  },
  {
   "cell_type": "markdown",
   "metadata": {},
   "source": [
    "### Cleaning the data"
   ]
  },
  {
   "cell_type": "code",
   "execution_count": 118,
   "metadata": {},
   "outputs": [
    {
     "output_type": "execute_result",
     "data": {
      "text/plain": [
       "       nb_rating\n",
       "count          0\n",
       "unique         0\n",
       "top          NaN\n",
       "freq         NaN"
      ],
      "text/html": "<div>\n<style scoped>\n    .dataframe tbody tr th:only-of-type {\n        vertical-align: middle;\n    }\n\n    .dataframe tbody tr th {\n        vertical-align: top;\n    }\n\n    .dataframe thead th {\n        text-align: right;\n    }\n</style>\n<table border=\"1\" class=\"dataframe\">\n  <thead>\n    <tr style=\"text-align: right;\">\n      <th></th>\n      <th>nb_rating</th>\n    </tr>\n  </thead>\n  <tbody>\n    <tr>\n      <th>count</th>\n      <td>0</td>\n    </tr>\n    <tr>\n      <th>unique</th>\n      <td>0</td>\n    </tr>\n    <tr>\n      <th>top</th>\n      <td>NaN</td>\n    </tr>\n    <tr>\n      <th>freq</th>\n      <td>NaN</td>\n    </tr>\n  </tbody>\n</table>\n</div>"
     },
     "metadata": {},
     "execution_count": 118
    }
   ],
   "source": [
    "#looking at the NA's in rating and number of ratings\n",
    "google_df[google_df.rating_app.isna()][['rating_app']].describe()\n",
    "# Here we conclude that in most cases the missing values in rating_app & nb_rating are caused by no ratings being present so for RQ1 we can safely discard the missing values.\n",
    "#Now we can look at the missing values in number of downloads.\n",
    "\n",
    "#looking at number of downloads\n",
    "google_df[google_df.num_downloads.isna()]\n",
    "google_df[google_df.num_downloads.isna()][['nb_rating']].describe()\n",
    "#We can see that a missing value in number of downloads often pairs with a missing value in rating, number of ratings and price. The datapoints with a missing number of downloads were either never downloaded, \n",
    "#or are a result of an error whilst gathering the data. We can never be sure about the first case, so we cannot convert them all to 0. Therefore we assume they are errors and delete these datapoints."
   ]
  },
  {
   "cell_type": "code",
   "execution_count": 119,
   "metadata": {},
   "outputs": [
    {
     "output_type": "stream",
     "name": "stdout",
     "text": [
      "69778\n1.0 1.0\n"
     ]
    }
   ],
   "source": [
    "#comparing the missing values of nb_rating and rating_app\n",
    "nr_missing = len(google_df[google_df.nb_rating.isna()]['nb_rating'])\n",
    "corr1 = float(len(google_df[google_df.nb_rating.isna()]['nb_rating'])/len(set(google_df[google_df.nb_rating.isna()]['my_app_id'] + google_df[google_df.rating_app.isna()]['my_app_id'])))\n",
    "corr2 = float(len(google_df[google_df.nb_rating.isna()]['rating_app'])/len(set(google_df[google_df.nb_rating.isna()]['my_app_id'] + google_df[google_df.rating_app.isna()]['my_app_id'])))\n",
    "\n",
    "print(nr_missing)\n",
    "print(corr1, corr2)\n",
    "#value of 1.0 means that the cases containing a missing value are exactle the same for both variables "
   ]
  },
  {
   "cell_type": "code",
   "execution_count": 126,
   "metadata": {},
   "outputs": [],
   "source": [
    "#create year and month published\n",
    "google_df['year_published'] = google_df.date_published.apply(lambda x: str(x)[-4:])\n",
    "google_df['year_published'] = google_df['year_published'].replace({'span': 2012}, regex=True)\n",
    "google_df['year_published'] = google_df['year_published'].astype(float)\n",
    "google_df = google_df.drop('date_published', axis=1)\n",
    "google_df['age'] = google_df.year_published.apply(lambda x: 2018 - x)\n",
    "\n",
    "#content rating of app\n",
    "google_df['content_rating_app'] = google_df.content_rating_app.apply(lambda x: str(x)[:7].replace(' ', '_'))\n",
    "google_df.content_rating_app = google_df.content_rating_app.replace('nan', 'nan_content', regex = True)\n",
    "OH_content = pd.get_dummies(google_df['content_rating_app'])\n",
    "google_df = google_df.drop('content_rating_app', axis=1)\n",
    "google_df = google_df.join(OH_content)\n",
    "google_df = google_df.rename(columns = {'PEGI_7_':'PEGI_7'})\n",
    "\n",
    "#versions\n",
    "google_df['version'] = google_df.software_version.apply(lambda x: str(x)[:1])\n",
    "google_df = google_df.drop('software_version', axis=1)\n",
    "\n",
    "#minimal app operating system\n",
    "google_df['min_operating_system'] = google_df.operating_system.apply(lambda x: 'version_' + str(x)[:3])\n",
    "google_df.min_operating_system = google_df.min_operating_system.replace('nan', 'nan_os', regex = True)\n",
    "OH_OS = pd.get_dummies(google_df['min_operating_system'])\n",
    "google_df = google_df.drop('min_operating_system', axis=1)\n",
    "google_df = google_df.join(OH_OS)\n",
    "\n",
    "#create number of permissions\n",
    "google_df['nb_permissions'] = google_df.permissions.apply(lambda x: 0 if type(x) == float else x.count(',') + 1)"
   ]
  },
  {
   "cell_type": "code",
   "execution_count": null,
   "metadata": {},
   "outputs": [],
   "source": [
    "#number of apps per developer\n",
    "google_df['nb_apps_developer'] = google_df.more_from_developer.apply(lambda x: 1 if type(x) == float else x.count(',') + 2)\n",
    "\n",
    "#clean num_download\n",
    "google_df.num_downloads = google_df.num_downloads.str.replace('+','')\n",
    "google_df.num_downloads = google_df.num_downloads.str.replace('>','')\n",
    "google_df.num_downloads = google_df.num_downloads.str.replace(' ','')\n",
    "google_df.num_downloads = google_df.num_downloads.str.replace(',','')\n",
    "google_df.num_downloads = google_df.num_downloads.astype('float')\n",
    "\n",
    "#add a new column with the nr of downloads as a catagory \n",
    "category = pd.cut(google_df.num_downloads, bins=[0,99,999,9999,99999,999999, 99999999999], labels=['0 - 99','100 - 999','1000 - 9999','10000 - 99999', '100000 - 999999', '1000000 +'])\n",
    "google_df.insert(8,'num_downloads_cat', category)\n",
    "\n",
    "#Make new column with free vs paid boolean\n",
    "zero_values = ['0', '0 USD', '0 SEK', '0 GBP', '0 MXN', '0 HKD', '0 KRW', '0 CZK', '0 CAD', '0 AED', '0 DKK', '0 IDR', '0 TWD', '0 INR', '0 CLP', '0 SAR', '0 ILS', '0 RUB', '0 AUD', '0 PLN','0 CHF', '0 MYR', '0 TRY', '0 BRL', '0 BGN', '0 UAH', '0 JPY', '0 EUR'] \n",
    "for value in zero_values:\n",
    "    google_df['price_gplay'] = google_df['price_gplay'].replace([value],0)\n",
    "google_df['free_app'] = google_df['price_gplay'] ==  0\n",
    "\n",
    "'''\n",
    "#Make a variable that has all possible catagories resulting from combinations of the booleans: free_app, has_ads and in_app\n",
    "category = [     'free_noads_noinapp' if     google_df.loc[row].free_app and not google_df.loc[row].has_ads and not google_df.loc[row].in_app\n",
    "            else 'free_noads_inapp'   if     google_df.loc[row].free_app and not google_df.loc[row].has_ads and     google_df.loc[row].in_app\n",
    "            else 'free_ads_noinapp'   if     google_df.loc[row].free_app and     google_df.loc[row].has_ads and not google_df.loc[row].in_app\n",
    "            else 'free_ads_inapp'     if     google_df.loc[row].free_app and     google_df.loc[row].has_ads and     google_df.loc[row].in_app\n",
    "            else 'paid_noads_noinapp' if not google_df.loc[row].free_app and not google_df.loc[row].has_ads and not google_df.loc[row].in_app \n",
    "            else 'paid_noads_inapp'   if not google_df.loc[row].free_app and not google_df.loc[row].has_ads and     google_df.loc[row].in_app\n",
    "            else 'paid_ads_noinapp'   if not google_df.loc[row].free_app and     google_df.loc[row].has_ads and not google_df.loc[row].in_app\n",
    "            else 'paid_ads_inapp'     for row in google_df.index]\n",
    "google_df['category'] = category\n",
    "'''\n",
    "\n",
    "#clean rating variable\n",
    "google_df.nb_rating = google_df.nb_rating.apply(lambda x: str(x).replace(',',''))\n",
    "google_df.nb_rating = google_df.nb_rating.astype('float')\n",
    "\n",
    "\n",
    "#turn catagorical variables into one-hot variables\n",
    "OH_categ_app = pd.get_dummies(google_df['categ_app'])\n",
    "google_df = google_df.drop('categ_app', axis=1)\n",
    "google_df = google_df.join(OH_categ_app)"
   ]
  },
  {
   "cell_type": "code",
   "execution_count": 112,
   "metadata": {},
   "outputs": [],
   "source": [
    "google_df = google_df.rename(columns={'PEGI 12': 'PEGI_12',\n",
    "                                     'version_1.0':'version_1_0',\n",
    "                                     'version_1.1':'version_1_1',\n",
    "                                     'version_1.5':'version_1_5',\n",
    "                                     'version_1.6':'version_1_6',\n",
    "                                     'version_2.0':'version_2_0',\n",
    "                                     'version_2.1':'version_2_1',\n",
    "                                     'version_2.2':'version_2_2',\n",
    "                                     'version_2.3':'version_2_3',\n",
    "                                     'version_3.0':'version_3_0',\n",
    "                                     'version_3.1':'version_3_1',\n",
    "                                     'version_3.2':'version_3_2',\n",
    "                                     'version_4.0':'version_4_0',\n",
    "                                     'version_4.1':'version_4_1',\n",
    "                                     'version_4.2':'version_4_2',\n",
    "                                     'version_4.3':'version_4_3',\n",
    "                                     'version_4.4':'version_4_4',\n",
    "                                     'version_5.0':'version_5_0',\n",
    "                                     'version_5.1':'version_5_1',\n",
    "                                     'version_6.0':'version_6_0',\n",
    "                                     'version_7.0':'version_7_0',\n",
    "                                     'version_7.1':'version_7_1',\n",
    "                                     'version_8.0':'version_8_0',\n",
    "                                      'Action & Adventure':'ActionANDAdventure',\n",
    "                                      'Art & Design':'ArtANDDesign',\n",
    "                                      'Auto & Vehicles':'AutoANDVehicles',\n",
    "                                      'Books & Reference':'BooksANDReference',\n",
    "                                      'Brain Games':'BrainGames',\n",
    "                                      'Food & Drink':'FoodANDDrink',\n",
    "                                      'Health & Fitness':'HealthANDFitness',\n",
    "                                      'House & Home':'HouseANDHome',\n",
    "                                      'Libraries & Demo':'LibrariesANDDemo',\n",
    "                                      'Maps & Navigation':'MapsANDNavigation',\n",
    "                                      'Music & Audio':'MusicANDAudio',\n",
    "                                      'Music & Video':'MusicANDVideo',\n",
    "                                      'News & Magazines':'NewsANDMagazines',\n",
    "                                      'Pretend Play':'PretendPlay',\n",
    "                                      'Role Playing':'RolePlaying',\n",
    "                                      'Travel & Local':'TravelANDLocal',\n",
    "                                      'Video Players & Editors':'VideoPlayersANDEditors',\n",
    "                                     })"
   ]
  },
  {
   "cell_type": "code",
   "execution_count": null,
   "metadata": {},
   "outputs": [],
   "source": [
    "#create interaction effects\n",
    "google_df['ads&purchases'] = google_df.has_ads & google_df.in_app\n",
    "empty_list = []\n",
    "for idx in range(len(google_df.free_app)):\n",
    "    if google_df.free_app[idx] & google_df.has_ads[idx]:\n",
    "        empty_list.append('free_and_ads')\n",
    "    elif google_df.free_app[idx] and not google_df.has_ads[idx]:\n",
    "        empty_list.append('free_no_ads')\n",
    "    elif google_df.has_ads[idx] and not google_df.free_app[idx]:\n",
    "        empty_list.append('paid_and_ads')\n",
    "    elif not (google_df.free_app[idx] & google_df.has_ads[idx]):\n",
    "        empty_list.append('paid_no_ads')\n",
    "\n",
    "google_df['freeXads'] = empty_list\n",
    "\n",
    "empty_list_1 = []\n",
    "for idx in range(len(google_df.free_app)):\n",
    "    if google_df.free_app[idx] & google_df.in_app[idx]:\n",
    "        empty_list_1.append('free_and_purchases')\n",
    "    elif google_df.free_app[idx] and not google_df.in_app[idx]:\n",
    "        empty_list_1.append('free_no_purchases')\n",
    "    elif google_df.in_app[idx] and not google_df.free_app[idx]:\n",
    "        empty_list_1.append('paid_and_purchases')\n",
    "    elif not (google_df.free_app[idx] & google_df.in_app[idx]):\n",
    "        empty_list_1.append('paid_no_purchases')\n",
    "\n",
    "google_df['freeXpurchases'] = empty_list_1\n",
    "\n",
    "empty_list_2 = []\n",
    "for idx in range(len(google_df.free_app)):\n",
    "    if google_df.free_app[idx] & google_df['ads&purchases'][idx]:\n",
    "        empty_list_2.append('free_and_purchases_and_ads')\n",
    "    elif google_df.free_app[idx] and not google_df['ads&purchases'][idx]:\n",
    "        empty_list_2.append('free_no_purchases_no_ads')\n",
    "    elif google_df['ads&purchases'][idx] and not google_df.free_app[idx]:\n",
    "        empty_list_2.append('paid_and_purchases_and_ads')\n",
    "    elif not (google_df.free_app[idx] & google_df['ads&purchases'][idx]):\n",
    "        empty_list_2.append('paid_no_purchases_no_ads')\n",
    "\n",
    "google_df['freeXpurchasesANDads'] = empty_list_2\n",
    "\n",
    "#google_df[\"freeXads\"] = google_df[\"freeXads\"].cat.codes\n",
    "#google_df[\"freeXpurchases\"] = google_df[\"freeXpurchases\"].cat.codes\n",
    "#google_df[\"freeXpurchasesANDads\"] = google_df[\"freeXpurchasesANDads\"].cat.codes"
   ]
  },
  {
   "cell_type": "markdown",
   "metadata": {},
   "source": [
    "### Save the file"
   ]
  },
  {
   "cell_type": "code",
   "execution_count": 114,
   "metadata": {},
   "outputs": [],
   "source": [
    "#include missing values\n",
    "google_df.to_csv(\"C:/Users/s149077/source/repos/jasperarendsen/Strategy-and-Business-Models-JADS-Group-2/Data/cleaned_withNA.csv\",index=False)"
   ]
  },
  {
   "cell_type": "code",
   "execution_count": 115,
   "metadata": {},
   "outputs": [],
   "source": [
    "#do not include missing values\n",
    "google_df = google_df.dropna(subset=['rating_app']) \n",
    "google_df.to_csv(\"C:/Users/s149077/source/repos/jasperarendsen/Strategy-and-Business-Models-JADS-Group-2/Data/cleaned_withoutNA.csv\",index=False)"
   ]
  }
 ],
 "metadata": {
  "kernelspec": {
   "display_name": "Python 3",
   "language": "python",
   "name": "python3"
  },
  "language_info": {
   "codemirror_mode": {
    "name": "ipython",
    "version": 3
   },
   "file_extension": ".py",
   "mimetype": "text/x-python",
   "name": "python",
   "nbconvert_exporter": "python",
   "pygments_lexer": "ipython3",
   "version": "3.8.3-final"
  }
 },
 "nbformat": 4,
 "nbformat_minor": 4
}