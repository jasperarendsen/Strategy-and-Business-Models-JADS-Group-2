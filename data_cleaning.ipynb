{
 "cells": [
  {
   "cell_type": "markdown",
   "metadata": {},
   "source": [
    "# SBM assignment - Data Cleaning and Inspection\n",
    "\n",
    "### Importing packages"
   ]
  },
  {
   "cell_type": "code",
   "execution_count": 2,
   "metadata": {},
   "outputs": [],
   "source": [
    "import seaborn as sns\n",
    "import matplotlib.pyplot as plt\n",
    "import pandas as pd\n",
    "import time"
   ]
  },
  {
   "cell_type": "markdown",
   "metadata": {},
   "source": [
    "### Loading dataset"
   ]
  },
  {
   "cell_type": "code",
   "execution_count": 3,
   "metadata": {},
   "outputs": [],
   "source": [
    "google_last_df = pd.read_csv(\"Data/google_data_last.csv\",encoding='cp1252')\n",
    "# google_df = google_df.sample(n=1000, random_state=1) #uncomment to run on sample"
   ]
  },
  {
   "cell_type": "code",
   "execution_count": 8,
   "metadata": {},
   "outputs": [],
   "source": [
    "data = google_last_df.copy()"
   ]
  },
  {
   "cell_type": "markdown",
   "metadata": {},
   "source": [
    "### Cleaning the data"
   ]
  },
  {
   "cell_type": "code",
   "execution_count": 10,
   "metadata": {},
   "outputs": [],
   "source": [
    "#Filter variables\n",
    "google_df = data[['my_app_id','rating_app','nb_rating', 'num_downloads', 'price_gplay', 'has_ads', 'in_app', 'categ_app']].copy()\n",
    "\n",
    "#looking at the NA's in rating and number of ratings\n",
    "google_df[google_df.nb_rating.isna()][['rating_app']].describe()\n",
    "# Here we conclude that in most cases the missing values in rating_app & nb_rating are caused by no ratings being present so for RQ1 we can safely discard the missing values.\n",
    "#Now we can look at the missing values in number of downloads.\n",
    "\n",
    "#looking at number of downloads\n",
    "google_df[google_df.num_downloads.isna()]\n",
    "google_df[google_df.num_downloads.isna()][['nb_rating']].describe()\n",
    "#We can see that a missing value in number of downloads often pairs with a missing value in rating, number of ratings and price. The datapoints with a missing number of downloads were either never downloaded, \n",
    "#or are a result of an error whilst gathering the data. We can never be sure about the first case, so we cannot convert them all to 0. Therefore we assume they are errors and delete these datapoints.\n",
    "\n",
    "#clean num_download\n",
    "google_df.num_downloads = google_df.num_downloads.str.replace('+','')\n",
    "google_df.num_downloads = google_df.num_downloads.str.replace('>','')\n",
    "google_df.num_downloads = google_df.num_downloads.str.replace(' ','')\n",
    "google_df.num_downloads = google_df.num_downloads.str.replace(',','')\n",
    "google_df.num_downloads = google_df.num_downloads.astype('float')\n",
    "\n",
    "#add a new column with the nr of downloads as a catagory \n",
    "category = pd.cut(google_df.num_downloads, bins=[0,99,999,9999,99999,999999, 99999999999], labels=['0 - 99','100 - 999','1000 - 9999','10000 - 99999', '100000 - 999999', '1000000 +'])\n",
    "google_df.insert(8,'num_downloads_cat', category)\n",
    "\n",
    "#Make new column with free vs paid boolean\n",
    "zero_values = ['0', '0 USD', '0 SEK', '0 GBP', '0 MXN', '0 HKD', '0 KRW', '0 CZK', '0 CAD', '0 AED', '0 DKK', '0 IDR', '0 TWD', '0 INR', '0 CLP', '0 SAR', '0 ILS', '0 RUB', '0 AUD', '0 PLN','0 CHF', '0 MYR', '0 TRY', '0 BRL', '0 BGN', '0 UAH', '0 JPY', '0 EUR'] \n",
    "for value in zero_values:\n",
    "    google_df['price_gplay'] = google_df['price_gplay'].replace([value],0)\n",
    "google_df['free_app'] = google_df['price_gplay'] ==  0\n",
    "\n",
    "'''\n",
    "#Make a variable that has all possible catagories resulting from combinations of the booleans: free_app, has_ads and in_app\n",
    "category = [     'free_noads_noinapp' if     google_df.loc[row].free_app and not google_df.loc[row].has_ads and not google_df.loc[row].in_app\n",
    "            else 'free_noads_inapp'   if     google_df.loc[row].free_app and not google_df.loc[row].has_ads and     google_df.loc[row].in_app\n",
    "            else 'free_ads_noinapp'   if     google_df.loc[row].free_app and     google_df.loc[row].has_ads and not google_df.loc[row].in_app\n",
    "            else 'free_ads_inapp'     if     google_df.loc[row].free_app and     google_df.loc[row].has_ads and     google_df.loc[row].in_app\n",
    "            else 'paid_noads_noinapp' if not google_df.loc[row].free_app and not google_df.loc[row].has_ads and not google_df.loc[row].in_app \n",
    "            else 'paid_noads_inapp'   if not google_df.loc[row].free_app and not google_df.loc[row].has_ads and     google_df.loc[row].in_app\n",
    "            else 'paid_ads_noinapp'   if not google_df.loc[row].free_app and     google_df.loc[row].has_ads and not google_df.loc[row].in_app\n",
    "            else 'paid_ads_inapp'     for row in google_df.index]\n",
    "google_df['category'] = category\n",
    "'''\n",
    "\n",
    "#clean rating variable\n",
    "google_df.nb_rating = google_df.nb_rating.str.replace(',','')\n",
    "google_df.nb_rating = google_df.nb_rating.astype('float')\n",
    "\n",
    "#create interaction variables\n",
    "google_df['freeApp_x_hasAds'] = google_df['free_app'] & google_df['has_ads']\n",
    "google_df['freeApp_x_inApp'] = google_df['free_app'] & google_df['in_app']\n",
    "google_df['freeApp_x_hasAds_inApp'] = google_df['free_app'] & google_df['has_ads'] & google_df['in_app']"
   ]
  },
  {
   "cell_type": "markdown",
   "metadata": {},
   "source": [
    "### Save the file"
   ]
  },
  {
   "cell_type": "code",
   "execution_count": 11,
   "metadata": {},
   "outputs": [],
   "source": [
    "google_df.to_csv('Data/cleaned.csv',index=False)"
   ]
  }
 ],
 "metadata": {
  "kernelspec": {
   "display_name": "Python 3",
   "language": "python",
   "name": "python3"
  },
  "language_info": {
   "codemirror_mode": {
    "name": "ipython",
    "version": 3
   },
   "file_extension": ".py",
   "mimetype": "text/x-python",
   "name": "python",
   "nbconvert_exporter": "python",
   "pygments_lexer": "ipython3",
   "version": "3.8.3-final"
  }
 },
 "nbformat": 4,
 "nbformat_minor": 4
}