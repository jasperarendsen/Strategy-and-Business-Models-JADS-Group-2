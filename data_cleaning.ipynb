{
 "cells": [
  {
   "cell_type": "markdown",
   "metadata": {},
   "source": [
    "# SBM assignment - Data Cleaning and Inspection\n",
    "\n",
    "### Importing packages"
   ]
  },
  {
   "cell_type": "code",
   "execution_count": 15,
   "metadata": {},
   "outputs": [],
   "source": [
    "import seaborn as sns\n",
    "import matplotlib.pyplot as plt\n",
    "import pandas as pd\n",
    "import time\n",
    "from datetime import datetime\n",
    "import numpy as np\n",
    "import os"
   ]
  },
  {
   "cell_type": "markdown",
   "metadata": {},
   "source": [
    "### Loading dataset"
   ]
  },
  {
   "cell_type": "code",
   "execution_count": 16,
   "metadata": {},
   "outputs": [],
   "source": [
    "#Run the line below if you start with the full data set\n",
    "google_last_df = pd.read_csv(\"../Data/google_data_last.csv\",encoding='cp1252')"
   ]
  },
  {
   "cell_type": "code",
   "execution_count": 17,
   "metadata": {},
   "outputs": [],
   "source": [
    "#Run the line below if you start with the full data set\n",
    "data = google_last_df.copy()"
   ]
  },
  {
   "cell_type": "code",
   "execution_count": 18,
   "metadata": {},
   "outputs": [
    {
     "output_type": "execute_result",
     "data": {
      "text/plain": [
       "Index(['Unnamed: 0', 'my_app_id', 'date_published', 'privacy_policy',\n",
       "       'rating_app', 'nb_rating', 'num_downloads', 'content_rating_app',\n",
       "       'developer', 'categ_app', 'in_app', 'has_ads', 'price_gplay',\n",
       "       'operating_system', 'software_version', 'interactive_element',\n",
       "       'in_app_product', 'developer_name', 'nb_screenshots', 'description',\n",
       "       'whats_new', 'email_to', 'developer_info', 'similar_apps_top15',\n",
       "       'visit_website', 'more_from_developer', 'family_library',\n",
       "       'permissions'],\n",
       "      dtype='object')"
      ]
     },
     "metadata": {},
     "execution_count": 18
    }
   ],
   "source": [
    "data.columns"
   ]
  },
  {
   "cell_type": "markdown",
   "metadata": {},
   "source": [
    "### Cleaning the data"
   ]
  },
  {
   "cell_type": "code",
   "execution_count": 19,
   "metadata": {},
   "outputs": [],
   "source": [
    "#Filter variables\n",
    "\n",
    "#run the line below if you start with the full dataset\n",
    "google_df = data[['my_app_id','rating_app','nb_rating', 'num_downloads', 'price_gplay', 'has_ads', 'in_app', 'categ_app', 'date_published', 'software_version', 'content_rating_app', 'more_from_developer', 'nb_screenshots', 'permissions']].copy()"
   ]
  },
  {
   "cell_type": "code",
   "execution_count": 20,
   "metadata": {},
   "outputs": [],
   "source": [
    "#looking at the NA's in rating and number of ratings\n",
    "google_df[google_df.rating_app.isna()][['rating_app']].describe()\n",
    "# Here we conclude that in most cases the missing values in rating_app & nb_rating are caused by no ratings being present so for RQ1 we can safely discard the missing values.\n",
    "#Now we can look at the missing values in number of downloads.\n",
    "\n",
    "#looking at number of downloads\n",
    "google_df[google_df.num_downloads.isna()]\n",
    "google_df[google_df.num_downloads.isna()][['nb_rating']].describe()\n",
    "#We can see that a missing value in number of downloads often pairs with a missing value in rating, number of ratings and price. The datapoints with a missing number of downloads were either never downloaded, \n",
    "#or are a result of an error whilst gathering the data. We can never be sure about the first case, so we cannot convert them all to 0. Therefore we assume they are errors and delete these datapoints.\n",
    "\n",
    "google_df = google_df.dropna(subset=['rating_app']) #comment voor goede dataset"
   ]
  },
  {
   "cell_type": "code",
   "execution_count": 21,
   "metadata": {},
   "outputs": [],
   "source": [
    "#create year and month published\n",
    "google_df['year_published'] = data.date_published.apply(lambda x: str(x)[-4:])\n",
    "google_df['year_published'] = google_df['year_published'].replace({'span': 2012}, regex=True)\n",
    "google_df['year_published'] = google_df['year_published'].astype(float)\n",
    "google_df = google_df.drop('date_published', axis=1)\n",
    "google_df['age'] = google_df.year_published.apply(lambda x: 2018 - x)\n",
    "\n",
    "#content rating of app\n",
    "google_df['content_rating_app'] = google_df.content_rating_app.apply(lambda x: str(x)[:7].replace(' ', '_'))\n",
    "google_df.content_rating_app = google_df.content_rating_app.replace('nan', 'nan_content', regex = True)\n",
    "OH_content = pd.get_dummies(google_df['content_rating_app'])\n",
    "google_df = google_df.drop('content_rating_app', axis=1)\n",
    "google_df = google_df.join(OH_content)\n",
    "google_df = google_df.rename(columns = {'PEGI_7_':'PEGI_7'})\n",
    "\n",
    "#number of new versions\n",
    "google_df['version'] = data.software_version.apply(lambda x: str(x)[:1])\n",
    "google_df = google_df.drop('software_version', axis=1)\n",
    "\n",
    "#minimal app operating system\n",
    "google_df['min_operating_system'] = data.operating_system.apply(lambda x: 'version_' + str(x)[:3])\n",
    "google_df.min_operating_system = google_df.min_operating_system.replace('nan', 'nan_os', regex = True)\n",
    "OH_OS = pd.get_dummies(google_df['min_operating_system'])\n",
    "google_df = google_df.drop('min_operating_system', axis=1)\n",
    "google_df = google_df.join(OH_OS)\n",
    "\n",
    "#create number of permissions\n",
    "google_df['nb_permissions'] = data.permissions.apply(lambda x: 0 if type(x) == float else x.count(',') + 1)"
   ]
  },
  {
   "cell_type": "code",
   "execution_count": 22,
   "metadata": {},
   "outputs": [],
   "source": [
    "#number of apps per developer\n",
    "google_df['nb_apps_developer'] = data.more_from_developer.apply(lambda x: 1 if type(x) == float else x.count(',') + 2)\n",
    "\n",
    "#clean num_download\n",
    "google_df.num_downloads = google_df.num_downloads.str.replace('+','')\n",
    "google_df.num_downloads = google_df.num_downloads.str.replace('>','')\n",
    "google_df.num_downloads = google_df.num_downloads.str.replace(' ','')\n",
    "google_df.num_downloads = google_df.num_downloads.str.replace(',','')\n",
    "google_df.num_downloads = google_df.num_downloads.astype('float')\n",
    "\n",
    "#add a new column with the nr of downloads as a catagory \n",
    "category = pd.cut(google_df.num_downloads, bins=[0,99,999,9999,99999,999999, 99999999999], labels=['0 - 99','100 - 999','1000 - 9999','10000 - 99999', '100000 - 999999', '1000000 +'])\n",
    "google_df.insert(8,'num_downloads_cat', category)\n",
    "\n",
    "#Make new column with free vs paid boolean\n",
    "zero_values = ['0', '0 USD', '0 SEK', '0 GBP', '0 MXN', '0 HKD', '0 KRW', '0 CZK', '0 CAD', '0 AED', '0 DKK', '0 IDR', '0 TWD', '0 INR', '0 CLP', '0 SAR', '0 ILS', '0 RUB', '0 AUD', '0 PLN','0 CHF', '0 MYR', '0 TRY', '0 BRL', '0 BGN', '0 UAH', '0 JPY', '0 EUR'] \n",
    "for value in zero_values:\n",
    "    google_df['price_gplay'] = google_df['price_gplay'].replace([value],0)\n",
    "google_df['free_app'] = google_df['price_gplay'] ==  0\n",
    "\n",
    "'''\n",
    "#Make a variable that has all possible catagories resulting from combinations of the booleans: free_app, has_ads and in_app\n",
    "category = [     'free_noads_noinapp' if     google_df.loc[row].free_app and not google_df.loc[row].has_ads and not google_df.loc[row].in_app\n",
    "            else 'free_noads_inapp'   if     google_df.loc[row].free_app and not google_df.loc[row].has_ads and     google_df.loc[row].in_app\n",
    "            else 'free_ads_noinapp'   if     google_df.loc[row].free_app and     google_df.loc[row].has_ads and not google_df.loc[row].in_app\n",
    "            else 'free_ads_inapp'     if     google_df.loc[row].free_app and     google_df.loc[row].has_ads and     google_df.loc[row].in_app\n",
    "            else 'paid_noads_noinapp' if not google_df.loc[row].free_app and not google_df.loc[row].has_ads and not google_df.loc[row].in_app \n",
    "            else 'paid_noads_inapp'   if not google_df.loc[row].free_app and not google_df.loc[row].has_ads and     google_df.loc[row].in_app\n",
    "            else 'paid_ads_noinapp'   if not google_df.loc[row].free_app and     google_df.loc[row].has_ads and not google_df.loc[row].in_app\n",
    "            else 'paid_ads_inapp'     for row in google_df.index]\n",
    "google_df['category'] = category\n",
    "'''\n",
    "\n",
    "#clean rating variable\n",
    "google_df.nb_rating = google_df.nb_rating.apply(lambda x: str(x).replace(',',''))\n",
    "google_df.nb_rating = google_df.nb_rating.astype('float')\n",
    "\n",
    "#create interaction variables\n",
    "google_df['freeApp_x_hasAds'] = google_df['free_app'] & google_df['has_ads']\n",
    "google_df['freeApp_x_inApp'] = google_df['free_app'] & google_df['in_app']\n",
    "google_df['freeApp_x_hasAds_inApp'] = google_df['free_app'] & google_df['has_ads'] & google_df['in_app']\n",
    "\n",
    "#turn catagorical variables into one-hot variables\n",
    "OH_categ_app = pd.get_dummies(google_df['categ_app'])\n",
    "google_df = google_df.drop('categ_app', axis=1)\n",
    "google_df = google_df.join(OH_categ_app)"
   ]
  },
  {
   "cell_type": "code",
   "execution_count": 23,
   "metadata": {},
   "outputs": [],
   "source": [
    "#dit zou eiglk in cleaning kunnen\n",
    "google_df = google_df.rename(columns={'PEGI 12': 'PEGI_12',\n",
    "                                     'version_1.0':'version_1_0',\n",
    "                                     'version_1.1':'version_1_1',\n",
    "                                     'version_1.5':'version_1_5',\n",
    "                                     'version_1.6':'version_1_6',\n",
    "                                     'version_2.0':'version_2_0',\n",
    "                                     'version_2.1':'version_2_1',\n",
    "                                     'version_2.2':'version_2_2',\n",
    "                                     'version_2.3':'version_2_3',\n",
    "                                     'version_3.0':'version_3_0',\n",
    "                                     'version_3.1':'version_3_1',\n",
    "                                     'version_3.2':'version_3_2',\n",
    "                                     'version_4.0':'version_4_0',\n",
    "                                     'version_4.1':'version_4_1',\n",
    "                                     'version_4.2':'version_4_2',\n",
    "                                     'version_4.3':'version_4_3',\n",
    "                                     'version_4.4':'version_4_4',\n",
    "                                     'version_5.0':'version_5_0',\n",
    "                                     'version_5.1':'version_5_1',\n",
    "                                     'version_6.0':'version_6_0',\n",
    "                                     'version_7.0':'version_7_0',\n",
    "                                     'version_7.1':'version_7_1',\n",
    "                                     'version_8.0':'version_8_0',\n",
    "                                      'Action & Adventure':'ActionANDAdventure',\n",
    "                                      'Art & Design':'ArtANDDesign',\n",
    "                                      'Auto & Vehicles':'AutoANDVehicles',\n",
    "                                      'Books & Reference':'BooksANDReference',\n",
    "                                      'Brain Games':'BrainGames',\n",
    "                                      'Food & Drink':'FoodANDDrink',\n",
    "                                      'Health & Fitness':'HealthANDFitness',\n",
    "                                      'House & Home':'HouseANDHome',\n",
    "                                      'Libraries & Demo':'LibrariesANDDemo',\n",
    "                                      'Maps & Navigation':'MapsANDNavigation',\n",
    "                                      'Music & Audio':'MusicANDAudio',\n",
    "                                      'Music & Video':'MusicANDVideo',\n",
    "                                      'News & Magazines':'NewsANDMagazines',\n",
    "                                      'Pretend Play':'PretendPlay',\n",
    "                                      'Role Playing':'RolePlaying',\n",
    "                                      'Travel & Local':'TravelANDLocal',\n",
    "                                      'Video Players & Editors':'VideoPlayersANDEditors',\n",
    "                                     })"
   ]
  },
  {
   "cell_type": "code",
   "execution_count": 24,
   "metadata": {},
   "outputs": [
    {
     "output_type": "execute_result",
     "data": {
      "text/plain": [
       "['my_app_id',\n",
       " 'rating_app',\n",
       " 'nb_rating',\n",
       " 'num_downloads',\n",
       " 'price_gplay',\n",
       " 'has_ads',\n",
       " 'in_app',\n",
       " 'num_downloads_cat',\n",
       " 'more_from_developer',\n",
       " 'nb_screenshots',\n",
       " 'permissions',\n",
       " 'year_published',\n",
       " 'age',\n",
       " 'PEGI_12',\n",
       " 'PEGI_16',\n",
       " 'PEGI_18',\n",
       " 'PEGI_3',\n",
       " 'PEGI_7',\n",
       " 'Parenta',\n",
       " 'Unrated',\n",
       " 'nan_content',\n",
       " 'version',\n",
       " 'version_1_0',\n",
       " 'version_1_1',\n",
       " 'version_1_5',\n",
       " 'version_1_6',\n",
       " 'version_2_0',\n",
       " 'version_2_1',\n",
       " 'version_2_2',\n",
       " 'version_2_3',\n",
       " 'version_3_0',\n",
       " 'version_3_1',\n",
       " 'version_3_2',\n",
       " 'version_4_0',\n",
       " 'version_4_1',\n",
       " 'version_4_2',\n",
       " 'version_4_3',\n",
       " 'version_4_4',\n",
       " 'version_5_0',\n",
       " 'version_5_1',\n",
       " 'version_6_0',\n",
       " 'version_7_0',\n",
       " 'version_7_1',\n",
       " 'version_8_0',\n",
       " 'version_Var',\n",
       " 'version_nan_os',\n",
       " 'nb_permissions',\n",
       " 'nb_apps_developer',\n",
       " 'free_app',\n",
       " 'freeApp_x_hasAds',\n",
       " 'freeApp_x_inApp',\n",
       " 'freeApp_x_hasAds_inApp',\n",
       " 'Action',\n",
       " 'ActionANDAdventure',\n",
       " 'Adventure',\n",
       " 'Arcade',\n",
       " 'ArtANDDesign',\n",
       " 'AutoANDVehicles',\n",
       " 'Beauty',\n",
       " 'Board',\n",
       " 'BooksANDReference',\n",
       " 'BrainGames',\n",
       " 'Business',\n",
       " 'Card',\n",
       " 'Casino',\n",
       " 'Casual',\n",
       " 'Comics',\n",
       " 'Communication',\n",
       " 'Creativity',\n",
       " 'Dating',\n",
       " 'Education',\n",
       " 'Educational',\n",
       " 'Entertainment',\n",
       " 'Events',\n",
       " 'Finance',\n",
       " 'FoodANDDrink',\n",
       " 'HealthANDFitness',\n",
       " 'HouseANDHome',\n",
       " 'LibrariesANDDemo',\n",
       " 'Lifestyle',\n",
       " 'MapsANDNavigation',\n",
       " 'Medical',\n",
       " 'Music',\n",
       " 'MusicANDAudio',\n",
       " 'MusicANDVideo',\n",
       " 'NewsANDMagazines',\n",
       " 'Parenting',\n",
       " 'Personalization',\n",
       " 'Photography',\n",
       " 'PretendPlay',\n",
       " 'Productivity',\n",
       " 'Puzzle',\n",
       " 'Racing',\n",
       " 'RolePlaying',\n",
       " 'Shopping',\n",
       " 'Simulation',\n",
       " 'Social',\n",
       " 'Sports',\n",
       " 'Strategy',\n",
       " 'Tools',\n",
       " 'TravelANDLocal',\n",
       " 'Trivia',\n",
       " 'VideoPlayersANDEditors',\n",
       " 'Weather',\n",
       " 'Word']"
      ]
     },
     "metadata": {},
     "execution_count": 24
    }
   ],
   "source": [
    "[value for value in google_df.columns]"
   ]
  },
  {
   "cell_type": "markdown",
   "metadata": {},
   "source": [
    "# Wat er nog kan gebeuren aan features:\n",
    "- Developer moet one-hot encoded maar 250.000 verschillende developers\n",
    "- Age is nu aantal jaar, kan misschien aantal dagen worden\n",
    "- Operating system pakt nu alleen eerte drie, dus bijv 4.0.3 word 4.0\n",
    "- Operating system zou ook nog naar de maximale os kunnen kijken, dat doen we nu niet"
   ]
  },
  {
   "cell_type": "markdown",
   "metadata": {},
   "source": [
    "### Save the file"
   ]
  },
  {
   "cell_type": "code",
   "execution_count": 26,
   "metadata": {},
   "outputs": [],
   "source": [
    "google_df.to_csv(\"../Data/cleaned.csv\",index=False)"
   ]
  },
  {
   "cell_type": "code",
   "execution_count": null,
   "metadata": {},
   "outputs": [],
   "source": []
  }
 ],
 "metadata": {
  "kernelspec": {
   "display_name": "Python 3",
   "language": "python",
   "name": "python3"
  },
  "language_info": {
   "codemirror_mode": {
    "name": "ipython",
    "version": 3
   },
   "file_extension": ".py",
   "mimetype": "text/x-python",
   "name": "python",
   "nbconvert_exporter": "python",
   "pygments_lexer": "ipython3",
   "version": "3.8.3-final"
  }
 },
 "nbformat": 4,
 "nbformat_minor": 4
}