{
 "metadata": {
  "language_info": {
   "codemirror_mode": {
    "name": "ipython",
    "version": 3
   },
   "file_extension": ".py",
   "mimetype": "text/x-python",
   "name": "python",
   "nbconvert_exporter": "python",
   "pygments_lexer": "ipython3",
   "version": "3.8.3-final"
  },
  "orig_nbformat": 2,
  "kernelspec": {
   "name": "Python 3.8.3 64-bit ('base': conda)",
   "display_name": "Python 3.8.3 64-bit ('base': conda)",
   "metadata": {
    "interpreter": {
     "hash": "b3ba2566441a7c06988d0923437866b63cedc61552a5af99d1f4fb67d367b25f"
    }
   }
  }
 },
 "nbformat": 4,
 "nbformat_minor": 2,
 "cells": [
  {
   "cell_type": "code",
   "execution_count": 9,
   "metadata": {},
   "outputs": [],
   "source": [
    "import pandas as pd\n",
    "import time\n",
    "import statsmodels.formula.api as sm"
   ]
  },
  {
   "cell_type": "code",
   "execution_count": 7,
   "metadata": {},
   "outputs": [],
   "source": [
    "google_df_import = pd.read_csv(\"Data/cleaned.csv\",encoding='cp1252')\n",
    "# google_df = google_df.sample(n=1000, random_state=1) #uncomment to run on sample"
   ]
  },
  {
   "cell_type": "code",
   "execution_count": 3,
   "metadata": {},
   "outputs": [],
   "source": [
    "google_df = google_df_import.copy()"
   ]
  },
  {
   "source": [
    "## preliminary analysis\n",
    "\n",
    "based on: https://jeffmacaluso.github.io/post/LinearRegressionAssumptions/ \n",
    "\n",
    "### statistics on variables and missing values (Floris)"
   ],
   "cell_type": "markdown",
   "metadata": {}
  },
  {
   "cell_type": "code",
   "execution_count": 5,
   "metadata": {},
   "outputs": [
    {
     "output_type": "stream",
     "name": "stdout",
     "text": [
      "845471\n"
     ]
    }
   ],
   "source": [
    "total_apps = len(google_df.index)\n",
    "amount_paid = google_df['free_app'].values.sum()\n",
    "amount_free = total_apps - amount_paid \n",
    "amount_ads = google_df['has_ads'].values.sum()\n",
    "amount_inapp = google_df['in_app'].values.sum()\n",
    "print(total_apps)"
   ]
  },
  {
   "source": [
    "### Correlations between all variables (correlation) (Jari)"
   ],
   "cell_type": "markdown",
   "metadata": {}
  },
  {
   "cell_type": "code",
   "execution_count": null,
   "metadata": {},
   "outputs": [],
   "source": [
    "multicollinearity_assumption()"
   ]
  },
  {
   "source": [
    "### autocorelation assumption (jari)"
   ],
   "cell_type": "markdown",
   "metadata": {}
  },
  {
   "source": [
    "autocorrelation_assumption()"
   ],
   "cell_type": "code",
   "metadata": {},
   "execution_count": null,
   "outputs": []
  },
  {
   "source": [
    "### Normal distribution of all variables (Floris)"
   ],
   "cell_type": "markdown",
   "metadata": {}
  },
  {
   "cell_type": "code",
   "execution_count": null,
   "metadata": {},
   "outputs": [],
   "source": [
    "normal_errors_assumption()"
   ]
  },
  {
   "source": [
    "### check linearity of variables (Jari)"
   ],
   "cell_type": "markdown",
   "metadata": {}
  },
  {
   "cell_type": "code",
   "execution_count": null,
   "metadata": {},
   "outputs": [],
   "source": [
    "linear_assumption()"
   ]
  },
  {
   "source": [
    "### homoscedasticity assumptions (Floris)"
   ],
   "cell_type": "markdown",
   "metadata": {}
  },
  {
   "cell_type": "code",
   "execution_count": null,
   "metadata": {},
   "outputs": [],
   "source": [
    "homoscedasticity_assumption()"
   ]
  },
  {
   "source": [
    "## Analysis\n",
    "\n",
    "### Run first OLS for interpretation"
   ],
   "cell_type": "markdown",
   "metadata": {}
  },
  {
   "cell_type": "code",
   "execution_count": 12,
   "metadata": {},
   "outputs": [
    {
     "output_type": "stream",
     "name": "stdout",
     "text": [
      "                            OLS Regression Results                            \n==============================================================================\nDep. Variable:             rating_app   R-squared:                       0.002\nModel:                            OLS   Adj. R-squared:                  0.002\nMethod:                 Least Squares   F-statistic:                     412.3\nDate:                Tue, 27 Oct 2020   Prob (F-statistic):               0.00\nTime:                        12:52:38   Log-Likelihood:            -8.5584e+05\nNo. Observations:              775693   AIC:                         1.712e+06\nDf Residuals:                  775688   BIC:                         1.712e+06\nDf Model:                           4                                         \nCovariance Type:            nonrobust                                         \n====================================================================================\n                       coef    std err          t      P>|t|      [0.025      0.975]\n------------------------------------------------------------------------------------\nIntercept            4.0826      0.003   1385.554      0.000       4.077       4.088\nfree_app[T.True]    -0.0260      0.003     -8.173      0.000      -0.032      -0.020\nhas_ads[T.True]      0.0689      0.002     39.728      0.000       0.066       0.072\nin_app[T.True]      -0.0151      0.003     -5.813      0.000      -0.020      -0.010\nnb_rating         2.656e-08   3.35e-09      7.925      0.000       2e-08    3.31e-08\n==============================================================================\nOmnibus:                   198097.017   Durbin-Watson:                   1.627\nProb(Omnibus):                  0.000   Jarque-Bera (JB):           513187.110\nSkew:                          -1.390   Prob(JB):                         0.00\nKurtosis:                       5.856   Cond. No.                     1.27e+06\n==============================================================================\n\nWarnings:\n[1] Standard Errors assume that the covariance matrix of the errors is correctly specified.\n[2] The condition number is large, 1.27e+06. This might indicate that there are\nstrong multicollinearity or other numerical problems.\n"
     ]
    }
   ],
   "source": [
    "result = sm.ols(formula=\"rating_app ~ free_app + has_ads + in_app + nb_rating\", data=google_df).fit()\n",
    "\n",
    "print(result.summary())"
   ]
  },
  {
   "cell_type": "code",
   "execution_count": null,
   "metadata": {},
   "outputs": [],
   "source": []
  }
 ]
}